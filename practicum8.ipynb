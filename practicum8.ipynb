{
 "cells": [
  {
   "cell_type": "code",
   "execution_count": 1,
   "id": "0516092a",
   "metadata": {},
   "outputs": [],
   "source": [
    "import requests\n",
    "from bs4 import BeautifulSoup\n",
    "import pandas as pd"
   ]
  },
  {
   "cell_type": "code",
   "execution_count": 2,
   "id": "4961b73b",
   "metadata": {},
   "outputs": [],
   "source": [
    "forsaj1 = 'https://www.kinoafisha.info/movies/4459836/'\n",
    "forsaj2 = 'https://www.kinoafisha.info/movies/4459883/'\n",
    "forsaj3 = 'https://www.kinoafisha.info/movies/677603/'\n",
    "forsaj4 = 'https://www.kinoafisha.info/movies/5123119/'\n",
    "forsaj5 = 'https://www.kinoafisha.info/movies/8027051/'\n",
    "forsaj6 = 'https://www.kinoafisha.info/movies/8124698/'\n",
    "forsaj7 = 'https://www.kinoafisha.info/movies/8155166/'\n",
    "forsaj8 = 'https://www.kinoafisha.info/movies/8175978/'\n",
    "forsaj9 = 'https://www.kinoafisha.info/movies/8326803/'\n",
    "forsaj_spinoff = 'https://www.kinoafisha.info/movies/8354592/'\n",
    "kinoafisha = [forsaj1, forsaj2, forsaj3, forsaj4, forsaj5, forsaj6, forsaj7, forsaj8, forsaj9, forsaj_spinoff]"
   ]
  },
  {
   "cell_type": "code",
   "execution_count": 4,
   "id": "1c2f943d",
   "metadata": {},
   "outputs": [],
   "source": [
    "results_kinoafisha={}\n",
    "for i in kinoafisha:\n",
    "    r = requests.get(i)\n",
    "    soup = BeautifulSoup(r.text, 'html.parser')\n",
    "    title = soup.find('span', {'class': 'trailer_subtitle'}).text\n",
    "    rating = soup.find('span', {'class': 'rating_num'}).text\n",
    "    results_kinoafisha[title]=rating"
   ]
  },
  {
   "cell_type": "code",
   "execution_count": 80,
   "id": "73f65cec",
   "metadata": {},
   "outputs": [],
   "source": [
    "Forsaj1 = 'https://wink.ru/media_items/105875630'\n",
    "Forsaj2 = 'https://wink.ru/movies/dvoynoy-forsazh-year-2003'\n",
    "Forsaj3 = 'https://wink.ru/movies/troynoy-forsazh-tokiyskiy-drift-year-2006'\n",
    "Forsaj4 = 'https://wink.ru/movies/forsazh-4-year-2009'\n",
    "Forsaj5 = 'https://wink.ru/movies/forsazh-5-year-2011'\n",
    "Forsaj6 = 'https://wink.ru/movies/forsazh-6-year-2013'\n",
    "Forsaj7 = 'https://wink.ru/movies/forsazh-7-year-2015'\n",
    "Forsaj8 = 'https://wink.ru/movies/forsazh-8-year-2017'\n",
    "Forsaj9 = 'https://wink.ru/movies/forsazh-9-year-2021'\n",
    "Forsaj_spinoff = 'https://wink.ru/movies/forsazh-khobbs-i-shou-year-2019'\n",
    "wink_and_imbd = [Forsaj1, Forsaj2, Forsaj3, Forsaj4, Forsaj5, Forsaj6, Forsaj7, Forsaj8, Forsaj9, Forsaj_spinoff]"
   ]
  },
  {
   "cell_type": "code",
   "execution_count": 81,
   "id": "53cbb63f",
   "metadata": {},
   "outputs": [],
   "source": [
    "results_wink={}\n",
    "results_imdb={}\n",
    "for i in wink_and_imbd:\n",
    "    r = requests.get(i)\n",
    "    soup = BeautifulSoup(r.text, 'html.parser')\n",
    "    title = soup.find('h3', {'class': 'r1lbxtse owwman0 r3qime3'}).text\n",
    "    rating_wink = soup.find('span', {'data-test': 'wink_rating_value'}).text\n",
    "    rating_imdb = soup.find('span', {'data-test': 'rating-imdb'}).text\n",
    "    results_wink[title]=rating_wink\n",
    "    results_imdb[title]=rating_imdb"
   ]
  },
  {
   "cell_type": "code",
   "execution_count": 5,
   "id": "315800aa",
   "metadata": {},
   "outputs": [
    {
     "data": {
      "text/plain": [
       "{'The Fast and the Furious': '7.8',\n",
       " '2 Fast 2 Furious': '7.9',\n",
       " 'The Fast and the Furious: Tokyo Drift': '7.6',\n",
       " 'The Fast and the Furious 4': '7.9',\n",
       " 'Fast Five': '8.3',\n",
       " 'Furious 6': '7.8',\n",
       " 'Furious 7': '7.9',\n",
       " 'The Fate of the Furious': '7.9',\n",
       " 'Fast & Furious 9': '7.5',\n",
       " 'Fast & Furious Presents: Hobbs & Shaw': '7.9'}"
      ]
     },
     "execution_count": 5,
     "metadata": {},
     "output_type": "execute_result"
    }
   ],
   "source": [
    "results_kinoafisha"
   ]
  },
  {
   "cell_type": "code",
   "execution_count": 82,
   "id": "42bc109f",
   "metadata": {},
   "outputs": [
    {
     "data": {
      "text/plain": [
       "{'The Fast and the Furious': '9.2',\n",
       " '2 Fast 2 Furious': '9.3',\n",
       " 'The Fast and the Furious: Tokyo Drift': '9.3',\n",
       " 'Fast & Furious': '9.1',\n",
       " 'Fast Five': '9.4',\n",
       " 'Furious 6': '9.2',\n",
       " 'Furious Seven': '9.2',\n",
       " 'The Fate of the Furious': '9.3',\n",
       " 'F9': '8.5',\n",
       " 'Fast & Furious Presents: Hobbs & Shaw': '9.2'}"
      ]
     },
     "execution_count": 82,
     "metadata": {},
     "output_type": "execute_result"
    }
   ],
   "source": [
    "results_wink"
   ]
  },
  {
   "cell_type": "code",
   "execution_count": 83,
   "id": "5cdb447d",
   "metadata": {},
   "outputs": [
    {
     "data": {
      "text/plain": [
       "{'The Fast and the Furious': '6.8',\n",
       " '2 Fast 2 Furious': '5.9',\n",
       " 'The Fast and the Furious: Tokyo Drift': '6.0',\n",
       " 'Fast & Furious': '6.5',\n",
       " 'Fast Five': '7.3',\n",
       " 'Furious 6': '7.0',\n",
       " 'Furious Seven': '7.1',\n",
       " 'The Fate of the Furious': '6.6',\n",
       " 'F9': '5.2',\n",
       " 'Fast & Furious Presents: Hobbs & Shaw': '6.5'}"
      ]
     },
     "execution_count": 83,
     "metadata": {},
     "output_type": "execute_result"
    }
   ],
   "source": [
    "results_imdb"
   ]
  },
  {
   "cell_type": "code",
   "execution_count": 93,
   "id": "58def3a7",
   "metadata": {},
   "outputs": [],
   "source": [
    "def mean_rate(title_num):\n",
    "    afisha = list(results_kinoafisha.keys())[title_num - 1]\n",
    "    wiki = list(results_wink.keys())[title_num - 1]\n",
    "    imbd = list(results_imdb.keys())[title_num - 1]\n",
    "    return (float(results_kinoafisha[afisha]) + float(results_wink[wiki]) + float(results_imdb[imbd]))/3"
   ]
  },
  {
   "cell_type": "code",
   "execution_count": 94,
   "id": "02704393",
   "metadata": {},
   "outputs": [
    {
     "name": "stdout",
     "output_type": "stream",
     "text": [
      "Средний рейтинг какой части форсажа Вы хотите узнать? 1\n",
      "7.933333333333334\n",
      "Хотите узнать другой средний рейтинг? да\n",
      "Средний рейтинг какой части форсажа Вы хотите узнать? 7\n",
      "8.066666666666668\n",
      "Хотите узнать другой средний рейтинг? хочу\n",
      "Средний рейтинг какой части форсажа Вы хотите узнать? 5\n",
      "8.333333333333334\n",
      "Хотите узнать другой средний рейтинг? нет\n"
     ]
    }
   ],
   "source": [
    "while True:\n",
    "    part=int(input('Средний рейтинг какой части форсажа Вы хотите узнать? '))\n",
    "    print(mean_rate(part))\n",
    "    quit = input('Хотите узнать другой средний рейтинг? ')\n",
    "    if quit == 'Нет' or quit == 'нет':\n",
    "        break"
   ]
  },
  {
   "cell_type": "code",
   "execution_count": null,
   "id": "f6c2e086",
   "metadata": {},
   "outputs": [],
   "source": []
  }
 ],
 "metadata": {
  "kernelspec": {
   "display_name": "Python 3 (ipykernel)",
   "language": "python",
   "name": "python3"
  },
  "language_info": {
   "codemirror_mode": {
    "name": "ipython",
    "version": 3
   },
   "file_extension": ".py",
   "mimetype": "text/x-python",
   "name": "python",
   "nbconvert_exporter": "python",
   "pygments_lexer": "ipython3",
   "version": "3.9.7"
  }
 },
 "nbformat": 4,
 "nbformat_minor": 5
}
